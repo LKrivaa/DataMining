{
 "cells": [
  {
   "cell_type": "code",
   "execution_count": null,
   "id": "2de13aef",
   "metadata": {},
   "outputs": [],
   "source": [
    "#pip install plotly"
   ]
  },
  {
   "cell_type": "code",
   "execution_count": 1,
   "id": "89c005d3",
   "metadata": {},
   "outputs": [],
   "source": [
    "import pandas as pd\n",
    "import numpy as np\n",
    "import sklearn as sk\n",
    "from sklearn.model_selection import train_test_split\n",
    "from sklearn.linear_model import LinearRegression\n",
    "import matplotlib.pyplot as plt\n",
    "import plotly.express as px\n",
    "\n",
    "\n",
    "\n",
    "#df = pd.read_csv(\"ANSO PATH/clean_data.csv\", sep=',', header=0)\n",
    "\n",
    "df = pd.read_csv(\"/Users/leakrivaa/downloads/DataMining-main-3/Analysis/clean_data.csv\", sep=',', header=0)\n",
    "\n",
    "#df = pd.read_csv(\"TOSTI PATH /clean_data.csv\", sep=',', header=0)\n",
    "\n"
   ]
  },
  {
   "cell_type": "code",
   "execution_count": 2,
   "id": "4821e351",
   "metadata": {
    "scrolled": false
   },
   "outputs": [
    {
     "data": {
      "text/html": [
       "<div>\n",
       "<style scoped>\n",
       "    .dataframe tbody tr th:only-of-type {\n",
       "        vertical-align: middle;\n",
       "    }\n",
       "\n",
       "    .dataframe tbody tr th {\n",
       "        vertical-align: top;\n",
       "    }\n",
       "\n",
       "    .dataframe thead th {\n",
       "        text-align: right;\n",
       "    }\n",
       "</style>\n",
       "<table border=\"1\" class=\"dataframe\">\n",
       "  <thead>\n",
       "    <tr style=\"text-align: right;\">\n",
       "      <th></th>\n",
       "      <th>index</th>\n",
       "      <th>date</th>\n",
       "      <th>year</th>\n",
       "      <th>manner_of_death</th>\n",
       "      <th>armed</th>\n",
       "      <th>age</th>\n",
       "      <th>gender</th>\n",
       "      <th>race</th>\n",
       "      <th>city</th>\n",
       "      <th>state</th>\n",
       "      <th>state_ID</th>\n",
       "      <th>signs_of_mental_illness</th>\n",
       "      <th>threat_level</th>\n",
       "      <th>flee</th>\n",
       "      <th>flee_encoded</th>\n",
       "      <th>body_camera</th>\n",
       "      <th>longitude</th>\n",
       "      <th>latitude</th>\n",
       "    </tr>\n",
       "  </thead>\n",
       "  <tbody>\n",
       "    <tr>\n",
       "      <th>0</th>\n",
       "      <td>0</td>\n",
       "      <td>2015-01-02</td>\n",
       "      <td>2015</td>\n",
       "      <td>0</td>\n",
       "      <td>1</td>\n",
       "      <td>53</td>\n",
       "      <td>1</td>\n",
       "      <td>0</td>\n",
       "      <td>Shelton</td>\n",
       "      <td>WA</td>\n",
       "      <td>47</td>\n",
       "      <td>True</td>\n",
       "      <td>attack</td>\n",
       "      <td>Not fleeing</td>\n",
       "      <td>0</td>\n",
       "      <td>False</td>\n",
       "      <td>-123.122</td>\n",
       "      <td>47.247</td>\n",
       "    </tr>\n",
       "    <tr>\n",
       "      <th>1</th>\n",
       "      <td>1</td>\n",
       "      <td>2015-01-02</td>\n",
       "      <td>2015</td>\n",
       "      <td>0</td>\n",
       "      <td>1</td>\n",
       "      <td>47</td>\n",
       "      <td>1</td>\n",
       "      <td>5</td>\n",
       "      <td>Aloha</td>\n",
       "      <td>OR</td>\n",
       "      <td>37</td>\n",
       "      <td>False</td>\n",
       "      <td>attack</td>\n",
       "      <td>Not fleeing</td>\n",
       "      <td>0</td>\n",
       "      <td>False</td>\n",
       "      <td>-122.892</td>\n",
       "      <td>45.487</td>\n",
       "    </tr>\n",
       "    <tr>\n",
       "      <th>2</th>\n",
       "      <td>2</td>\n",
       "      <td>2015-01-03</td>\n",
       "      <td>2015</td>\n",
       "      <td>1</td>\n",
       "      <td>0</td>\n",
       "      <td>23</td>\n",
       "      <td>1</td>\n",
       "      <td>2</td>\n",
       "      <td>Wichita</td>\n",
       "      <td>KS</td>\n",
       "      <td>16</td>\n",
       "      <td>False</td>\n",
       "      <td>other</td>\n",
       "      <td>Not fleeing</td>\n",
       "      <td>0</td>\n",
       "      <td>False</td>\n",
       "      <td>-97.281</td>\n",
       "      <td>37.695</td>\n",
       "    </tr>\n",
       "    <tr>\n",
       "      <th>3</th>\n",
       "      <td>3</td>\n",
       "      <td>2015-01-04</td>\n",
       "      <td>2015</td>\n",
       "      <td>0</td>\n",
       "      <td>1</td>\n",
       "      <td>32</td>\n",
       "      <td>1</td>\n",
       "      <td>5</td>\n",
       "      <td>San Francisco</td>\n",
       "      <td>CA</td>\n",
       "      <td>4</td>\n",
       "      <td>True</td>\n",
       "      <td>attack</td>\n",
       "      <td>Not fleeing</td>\n",
       "      <td>0</td>\n",
       "      <td>False</td>\n",
       "      <td>-122.422</td>\n",
       "      <td>37.763</td>\n",
       "    </tr>\n",
       "    <tr>\n",
       "      <th>4</th>\n",
       "      <td>4</td>\n",
       "      <td>2015-01-04</td>\n",
       "      <td>2015</td>\n",
       "      <td>0</td>\n",
       "      <td>1</td>\n",
       "      <td>39</td>\n",
       "      <td>1</td>\n",
       "      <td>2</td>\n",
       "      <td>Evans</td>\n",
       "      <td>CO</td>\n",
       "      <td>5</td>\n",
       "      <td>False</td>\n",
       "      <td>attack</td>\n",
       "      <td>Not fleeing</td>\n",
       "      <td>0</td>\n",
       "      <td>False</td>\n",
       "      <td>-104.692</td>\n",
       "      <td>40.384</td>\n",
       "    </tr>\n",
       "    <tr>\n",
       "      <th>...</th>\n",
       "      <td>...</td>\n",
       "      <td>...</td>\n",
       "      <td>...</td>\n",
       "      <td>...</td>\n",
       "      <td>...</td>\n",
       "      <td>...</td>\n",
       "      <td>...</td>\n",
       "      <td>...</td>\n",
       "      <td>...</td>\n",
       "      <td>...</td>\n",
       "      <td>...</td>\n",
       "      <td>...</td>\n",
       "      <td>...</td>\n",
       "      <td>...</td>\n",
       "      <td>...</td>\n",
       "      <td>...</td>\n",
       "      <td>...</td>\n",
       "      <td>...</td>\n",
       "    </tr>\n",
       "    <tr>\n",
       "      <th>5027</th>\n",
       "      <td>5615</td>\n",
       "      <td>2020-09-04</td>\n",
       "      <td>2020</td>\n",
       "      <td>0</td>\n",
       "      <td>1</td>\n",
       "      <td>33</td>\n",
       "      <td>1</td>\n",
       "      <td>1</td>\n",
       "      <td>Syracuse</td>\n",
       "      <td>NY</td>\n",
       "      <td>34</td>\n",
       "      <td>False</td>\n",
       "      <td>other</td>\n",
       "      <td>Not fleeing</td>\n",
       "      <td>0</td>\n",
       "      <td>True</td>\n",
       "      <td>-76.148</td>\n",
       "      <td>43.053</td>\n",
       "    </tr>\n",
       "    <tr>\n",
       "      <th>5028</th>\n",
       "      <td>5616</td>\n",
       "      <td>2020-09-04</td>\n",
       "      <td>2020</td>\n",
       "      <td>0</td>\n",
       "      <td>1</td>\n",
       "      <td>38</td>\n",
       "      <td>1</td>\n",
       "      <td>5</td>\n",
       "      <td>Lucerne</td>\n",
       "      <td>CA</td>\n",
       "      <td>4</td>\n",
       "      <td>False</td>\n",
       "      <td>attack</td>\n",
       "      <td>Not fleeing</td>\n",
       "      <td>0</td>\n",
       "      <td>False</td>\n",
       "      <td>-116.832</td>\n",
       "      <td>34.438</td>\n",
       "    </tr>\n",
       "    <tr>\n",
       "      <th>5029</th>\n",
       "      <td>5617</td>\n",
       "      <td>2020-09-05</td>\n",
       "      <td>2020</td>\n",
       "      <td>0</td>\n",
       "      <td>1</td>\n",
       "      <td>22</td>\n",
       "      <td>1</td>\n",
       "      <td>5</td>\n",
       "      <td>Battle Creek</td>\n",
       "      <td>MI</td>\n",
       "      <td>22</td>\n",
       "      <td>False</td>\n",
       "      <td>attack</td>\n",
       "      <td>Car</td>\n",
       "      <td>1</td>\n",
       "      <td>False</td>\n",
       "      <td>-85.272</td>\n",
       "      <td>42.305</td>\n",
       "    </tr>\n",
       "    <tr>\n",
       "      <th>5030</th>\n",
       "      <td>5618</td>\n",
       "      <td>2020-09-05</td>\n",
       "      <td>2020</td>\n",
       "      <td>0</td>\n",
       "      <td>1</td>\n",
       "      <td>61</td>\n",
       "      <td>1</td>\n",
       "      <td>1</td>\n",
       "      <td>San Antonio</td>\n",
       "      <td>TX</td>\n",
       "      <td>43</td>\n",
       "      <td>False</td>\n",
       "      <td>attack</td>\n",
       "      <td>Not fleeing</td>\n",
       "      <td>0</td>\n",
       "      <td>False</td>\n",
       "      <td>Not fleeing</td>\n",
       "      <td>Not fleeing</td>\n",
       "    </tr>\n",
       "    <tr>\n",
       "      <th>5031</th>\n",
       "      <td>5623</td>\n",
       "      <td>2020-09-07</td>\n",
       "      <td>2020</td>\n",
       "      <td>0</td>\n",
       "      <td>1</td>\n",
       "      <td>51</td>\n",
       "      <td>1</td>\n",
       "      <td>5</td>\n",
       "      <td>Altoona</td>\n",
       "      <td>IA</td>\n",
       "      <td>12</td>\n",
       "      <td>False</td>\n",
       "      <td>other</td>\n",
       "      <td>Not fleeing</td>\n",
       "      <td>0</td>\n",
       "      <td>False</td>\n",
       "      <td>-93.498</td>\n",
       "      <td>41.661</td>\n",
       "    </tr>\n",
       "  </tbody>\n",
       "</table>\n",
       "<p>5032 rows × 18 columns</p>\n",
       "</div>"
      ],
      "text/plain": [
       "      index        date  year  manner_of_death  armed  age  gender  race  \\\n",
       "0         0  2015-01-02  2015                0      1   53       1     0   \n",
       "1         1  2015-01-02  2015                0      1   47       1     5   \n",
       "2         2  2015-01-03  2015                1      0   23       1     2   \n",
       "3         3  2015-01-04  2015                0      1   32       1     5   \n",
       "4         4  2015-01-04  2015                0      1   39       1     2   \n",
       "...     ...         ...   ...              ...    ...  ...     ...   ...   \n",
       "5027   5615  2020-09-04  2020                0      1   33       1     1   \n",
       "5028   5616  2020-09-04  2020                0      1   38       1     5   \n",
       "5029   5617  2020-09-05  2020                0      1   22       1     5   \n",
       "5030   5618  2020-09-05  2020                0      1   61       1     1   \n",
       "5031   5623  2020-09-07  2020                0      1   51       1     5   \n",
       "\n",
       "               city state  state_ID  signs_of_mental_illness threat_level  \\\n",
       "0           Shelton    WA        47                     True       attack   \n",
       "1             Aloha    OR        37                    False       attack   \n",
       "2           Wichita    KS        16                    False        other   \n",
       "3     San Francisco    CA         4                     True       attack   \n",
       "4             Evans    CO         5                    False       attack   \n",
       "...             ...   ...       ...                      ...          ...   \n",
       "5027       Syracuse    NY        34                    False        other   \n",
       "5028        Lucerne    CA         4                    False       attack   \n",
       "5029   Battle Creek    MI        22                    False       attack   \n",
       "5030    San Antonio    TX        43                    False       attack   \n",
       "5031        Altoona    IA        12                    False        other   \n",
       "\n",
       "             flee  flee_encoded  body_camera    longitude     latitude  \n",
       "0     Not fleeing             0        False     -123.122       47.247  \n",
       "1     Not fleeing             0        False     -122.892       45.487  \n",
       "2     Not fleeing             0        False      -97.281       37.695  \n",
       "3     Not fleeing             0        False     -122.422       37.763  \n",
       "4     Not fleeing             0        False     -104.692       40.384  \n",
       "...           ...           ...          ...          ...          ...  \n",
       "5027  Not fleeing             0         True      -76.148       43.053  \n",
       "5028  Not fleeing             0        False     -116.832       34.438  \n",
       "5029          Car             1        False      -85.272       42.305  \n",
       "5030  Not fleeing             0        False  Not fleeing  Not fleeing  \n",
       "5031  Not fleeing             0        False      -93.498       41.661  \n",
       "\n",
       "[5032 rows x 18 columns]"
      ]
     },
     "execution_count": 2,
     "metadata": {},
     "output_type": "execute_result"
    }
   ],
   "source": [
    "df"
   ]
  },
  {
   "cell_type": "code",
   "execution_count": null,
   "id": "5b896d94",
   "metadata": {},
   "outputs": [],
   "source": [
    "predictionDF = pd.DataFrame(df, columns=['year', 'manner_of_death'])\n",
    "\n",
    "predictionDF"
   ]
  },
  {
   "cell_type": "code",
   "execution_count": null,
   "id": "c5a23802",
   "metadata": {
    "scrolled": true
   },
   "outputs": [],
   "source": [
    "death_year = predictionDF.groupby([predictionDF['year']]).agg({'count'})\n",
    "death_year"
   ]
  },
  {
   "cell_type": "code",
   "execution_count": null,
   "id": "01bfe2b2",
   "metadata": {},
   "outputs": [],
   "source": [
    "death_year.info()"
   ]
  },
  {
   "cell_type": "code",
   "execution_count": null,
   "id": "ca15f380",
   "metadata": {},
   "outputs": [],
   "source": [
    "# Create a sample dataframe with an text index\n",
    "death_per_year = death_year.plot.bar(rot=0)"
   ]
  },
  {
   "cell_type": "code",
   "execution_count": null,
   "id": "3dd5c4c5",
   "metadata": {
    "scrolled": true
   },
   "outputs": [],
   "source": [
    "#Bar plot with percentage\n",
    "a = predictionDF['year'].value_counts().plot(kind='barh', figsize=(15,10),\n",
    "                                        color=\"coral\", fontsize=13);\n",
    "a.set_alpha(0.8)\n",
    "a.set_title(\"Deaths per year\", fontsize=18)\n",
    "a.set_xlabel(\"Deaths\", fontsize=18);\n",
    "#a.set_xticks([0, 5, 10, 15, 20])\n",
    "\n",
    "\n",
    "\n",
    "# invert for largest on top \n",
    "a.invert_yaxis()\n"
   ]
  },
  {
   "cell_type": "code",
   "execution_count": null,
   "id": "55ba97cb",
   "metadata": {
    "scrolled": true
   },
   "outputs": [],
   "source": [
    "predictionDF_new = death_year.reset_index()\n",
    "predictionDF_new"
   ]
  },
  {
   "cell_type": "code",
   "execution_count": null,
   "id": "f4056187",
   "metadata": {
    "scrolled": true
   },
   "outputs": [],
   "source": [
    "death_count = pd.DataFrame([('2015', 965),\n",
    "                   ('2016', 906),\n",
    "                   ('2017', 908),\n",
    "                   ('2018', 889),\n",
    "                   ('2019', 857),\n",
    "                   ('2020', 507)],\n",
    "           columns=('year', 'death_count')\n",
    "                 )\n",
    "\n",
    "\n",
    "death_count\n"
   ]
  },
  {
   "cell_type": "code",
   "execution_count": null,
   "id": "a99dd12e",
   "metadata": {},
   "outputs": [],
   "source": [
    "x = death_count['year']\n",
    "y = death_count['death_count']\n",
    "\n",
    "x_train, x_test, y_train, y_test = train_test_split(x, y, test_size=0.33, random_state=42)"
   ]
  },
  {
   "cell_type": "code",
   "execution_count": null,
   "id": "6a33117a",
   "metadata": {
    "scrolled": true
   },
   "outputs": [],
   "source": [
    "x_train"
   ]
  },
  {
   "cell_type": "code",
   "execution_count": null,
   "id": "7f0c414d",
   "metadata": {
    "scrolled": true
   },
   "outputs": [],
   "source": [
    "y_train"
   ]
  },
  {
   "cell_type": "code",
   "execution_count": null,
   "id": "e2f27bbb",
   "metadata": {},
   "outputs": [],
   "source": [
    "lr = LinearRegression()\n",
    "\n",
    "lr.fit(x_train, y_train)"
   ]
  },
  {
   "cell_type": "code",
   "execution_count": 3,
   "id": "cfc45105",
   "metadata": {},
   "outputs": [
    {
     "data": {
      "text/html": [
       "<div>\n",
       "<style scoped>\n",
       "    .dataframe tbody tr th:only-of-type {\n",
       "        vertical-align: middle;\n",
       "    }\n",
       "\n",
       "    .dataframe tbody tr th {\n",
       "        vertical-align: top;\n",
       "    }\n",
       "\n",
       "    .dataframe thead th {\n",
       "        text-align: right;\n",
       "    }\n",
       "</style>\n",
       "<table border=\"1\" class=\"dataframe\">\n",
       "  <thead>\n",
       "    <tr style=\"text-align: right;\">\n",
       "      <th></th>\n",
       "      <th>year</th>\n",
       "      <th>race</th>\n",
       "    </tr>\n",
       "  </thead>\n",
       "  <tbody>\n",
       "    <tr>\n",
       "      <th>0</th>\n",
       "      <td>2015</td>\n",
       "      <td>0</td>\n",
       "    </tr>\n",
       "    <tr>\n",
       "      <th>1</th>\n",
       "      <td>2015</td>\n",
       "      <td>5</td>\n",
       "    </tr>\n",
       "    <tr>\n",
       "      <th>2</th>\n",
       "      <td>2015</td>\n",
       "      <td>2</td>\n",
       "    </tr>\n",
       "    <tr>\n",
       "      <th>3</th>\n",
       "      <td>2015</td>\n",
       "      <td>5</td>\n",
       "    </tr>\n",
       "    <tr>\n",
       "      <th>4</th>\n",
       "      <td>2015</td>\n",
       "      <td>2</td>\n",
       "    </tr>\n",
       "    <tr>\n",
       "      <th>...</th>\n",
       "      <td>...</td>\n",
       "      <td>...</td>\n",
       "    </tr>\n",
       "    <tr>\n",
       "      <th>5027</th>\n",
       "      <td>2020</td>\n",
       "      <td>1</td>\n",
       "    </tr>\n",
       "    <tr>\n",
       "      <th>5028</th>\n",
       "      <td>2020</td>\n",
       "      <td>5</td>\n",
       "    </tr>\n",
       "    <tr>\n",
       "      <th>5029</th>\n",
       "      <td>2020</td>\n",
       "      <td>5</td>\n",
       "    </tr>\n",
       "    <tr>\n",
       "      <th>5030</th>\n",
       "      <td>2020</td>\n",
       "      <td>1</td>\n",
       "    </tr>\n",
       "    <tr>\n",
       "      <th>5031</th>\n",
       "      <td>2020</td>\n",
       "      <td>5</td>\n",
       "    </tr>\n",
       "  </tbody>\n",
       "</table>\n",
       "<p>5032 rows × 2 columns</p>\n",
       "</div>"
      ],
      "text/plain": [
       "      year  race\n",
       "0     2015     0\n",
       "1     2015     5\n",
       "2     2015     2\n",
       "3     2015     5\n",
       "4     2015     2\n",
       "...    ...   ...\n",
       "5027  2020     1\n",
       "5028  2020     5\n",
       "5029  2020     5\n",
       "5030  2020     1\n",
       "5031  2020     5\n",
       "\n",
       "[5032 rows x 2 columns]"
      ]
     },
     "execution_count": 3,
     "metadata": {},
     "output_type": "execute_result"
    }
   ],
   "source": [
    "#Extracting the data to be used for this bar chart\n",
    "extra = pd.DataFrame(df, columns=['year', 'race'])\n",
    "extra"
   ]
  },
  {
   "cell_type": "code",
   "execution_count": 4,
   "id": "f8d2e867",
   "metadata": {},
   "outputs": [
    {
     "name": "stdout",
     "output_type": "stream",
     "text": [
      "Year 2015 race A: 14\n",
      "Year 2015 race B: 258\n",
      "Year 2015 race H: 172\n",
      "Year 2015 race N: 9\n",
      "Year 2015 race O: 14\n",
      "Year 2015 race W: 498\n",
      "\n",
      "Year 2016 race A: 15\n",
      "Year 2016 race B: 234\n",
      "Year 2016 race H: 160\n",
      "Year 2016 race N: 16\n",
      "Year 2016 race O: 11\n",
      "Year 2016 race W: 470\n",
      "\n",
      "Year 2017 race A: 16\n",
      "Year 2017 race B: 224\n",
      "Year 2017 race H: 180\n",
      "Year 2017 race N: 22\n",
      "Year 2017 race O: 6\n",
      "Year 2017 race W: 460\n",
      "\n",
      "Year 2018 race A: 20\n",
      "Year 2018 race B: 229\n",
      "Year 2018 race H: 165\n",
      "Year 2018 race N: 15\n",
      "Year 2018 race O: 4\n",
      "Year 2018 race W: 456\n",
      "\n",
      "Year 2019 race A: 19\n",
      "Year 2019 race B: 250\n",
      "Year 2019 race H: 163\n",
      "Year 2019 race N: 13\n",
      "Year 2019 race O: 9\n",
      "Year 2019 race W: 403\n",
      "\n",
      "Year 2020 race A: 9\n",
      "Year 2020 race B: 134\n",
      "Year 2020 race H: 90\n",
      "Year 2020 race N: 4\n",
      "Year 2020 race O: 3\n",
      "Year 2020 race W: 267\n"
     ]
    }
   ],
   "source": [
    "#Functions to calculate how many from each race are killed each year. \n",
    "\n",
    "def year2015(extra):\n",
    "    year2015A = 0\n",
    "    year2015B = 0\n",
    "    year2015H = 0\n",
    "    year2015N = 0\n",
    "    year2015O = 0\n",
    "    year2015W = 0\n",
    "    \n",
    "    for index in extra.index:\n",
    "        if extra.loc[index, 'year'] == 2015 and extra.loc[index, 'race'] == 0:\n",
    "            year2015A += 1\n",
    "        elif extra.loc[index, 'year'] == 2015 and extra.loc[index, 'race'] == 1:\n",
    "            year2015B += 1\n",
    "        elif extra.loc[index, 'year'] == 2015 and extra.loc[index, 'race'] == 2:\n",
    "            year2015H += 1\n",
    "        elif extra.loc[index, 'year'] == 2015 and extra.loc[index, 'race'] == 3:\n",
    "            year2015N += 1\n",
    "        elif extra.loc[index, 'year'] == 2015 and extra.loc[index, 'race'] == 4:\n",
    "            year2015O += 1\n",
    "        elif extra.loc[index, 'year'] == 2015 and extra.loc[index, 'race'] == 5:\n",
    "            year2015W += 1\n",
    "\n",
    "    print('Year 2015 race A: ' + str(year2015A))\n",
    "    print('Year 2015 race B: ' + str(year2015B))\n",
    "    print('Year 2015 race H: ' + str(year2015H))\n",
    "    print('Year 2015 race N: ' + str(year2015N))\n",
    "    print('Year 2015 race O: ' + str(year2015O))\n",
    "    print('Year 2015 race W: ' + str(year2015W))\n",
    "            \n",
    "year2015(extra)\n",
    "\n",
    "print()\n",
    "\n",
    "def year2016(extra):\n",
    "    year2016A = 0\n",
    "    year2016B = 0\n",
    "    year2016H = 0\n",
    "    year2016N = 0\n",
    "    year2016O = 0\n",
    "    year2016W = 0\n",
    "    \n",
    "    for index in extra.index:\n",
    "        if extra.loc[index, 'year'] == 2016 and extra.loc[index, 'race'] == 0:\n",
    "            year2016A += 1\n",
    "        elif extra.loc[index, 'year'] == 2016 and extra.loc[index, 'race'] == 1:\n",
    "            year2016B += 1\n",
    "        elif extra.loc[index, 'year'] == 2016 and extra.loc[index, 'race'] == 2:\n",
    "            year2016H += 1\n",
    "        elif extra.loc[index, 'year'] == 2016 and extra.loc[index, 'race'] == 3:\n",
    "            year2016N += 1\n",
    "        elif extra.loc[index, 'year'] == 2016 and extra.loc[index, 'race'] == 4:\n",
    "            year2016O += 1\n",
    "        elif extra.loc[index, 'year'] == 2016 and extra.loc[index, 'race'] == 5:\n",
    "            year2016W += 1\n",
    "\n",
    "    print('Year 2016 race A: ' + str(year2016A))\n",
    "    print('Year 2016 race B: ' + str(year2016B))\n",
    "    print('Year 2016 race H: ' + str(year2016H))\n",
    "    print('Year 2016 race N: ' + str(year2016N))\n",
    "    print('Year 2016 race O: ' + str(year2016O))\n",
    "    print('Year 2016 race W: ' + str(year2016W))\n",
    "\n",
    "year2016(extra)\n",
    "print()\n",
    "\n",
    "def year2017(extra):\n",
    "    year2017A = 0\n",
    "    year2017B = 0\n",
    "    year2017H = 0\n",
    "    year2017N = 0\n",
    "    year2017O = 0\n",
    "    year2017W = 0\n",
    "    \n",
    "    for index in extra.index:\n",
    "        if extra.loc[index, 'year'] == 2017 and extra.loc[index, 'race'] == 0:\n",
    "            year2017A += 1\n",
    "        elif extra.loc[index, 'year'] == 2017 and extra.loc[index, 'race'] == 1:\n",
    "            year2017B += 1\n",
    "        elif extra.loc[index, 'year'] == 2017 and extra.loc[index, 'race'] == 2:\n",
    "            year2017H += 1\n",
    "        elif extra.loc[index, 'year'] == 2017 and extra.loc[index, 'race'] == 3:\n",
    "            year2017N += 1\n",
    "        elif extra.loc[index, 'year'] == 2017 and extra.loc[index, 'race'] == 4:\n",
    "            year2017O += 1\n",
    "        elif extra.loc[index, 'year'] == 2017 and extra.loc[index, 'race'] == 5:\n",
    "            year2017W += 1\n",
    "\n",
    "    print('Year 2017 race A: ' + str(year2017A))\n",
    "    print('Year 2017 race B: ' + str(year2017B))\n",
    "    print('Year 2017 race H: ' + str(year2017H))\n",
    "    print('Year 2017 race N: ' + str(year2017N))\n",
    "    print('Year 2017 race O: ' + str(year2017O))\n",
    "    print('Year 2017 race W: ' + str(year2017W))\n",
    "\n",
    "year2017(extra)\n",
    "print()\n",
    "\n",
    "def year2018(extra):\n",
    "    year2018A = 0\n",
    "    year2018B = 0\n",
    "    year2018H = 0\n",
    "    year2018N = 0\n",
    "    year2018O = 0\n",
    "    year2018W = 0\n",
    "    \n",
    "    for index in extra.index:\n",
    "        if extra.loc[index, 'year'] == 2018 and extra.loc[index, 'race'] == 0:\n",
    "            year2018A += 1\n",
    "        elif extra.loc[index, 'year'] == 2018 and extra.loc[index, 'race'] == 1:\n",
    "            year2018B += 1\n",
    "        elif extra.loc[index, 'year'] == 2018 and extra.loc[index, 'race'] == 2:\n",
    "            year2018H += 1\n",
    "        elif extra.loc[index, 'year'] == 2018 and extra.loc[index, 'race'] == 3:\n",
    "            year2018N += 1\n",
    "        elif extra.loc[index, 'year'] == 2018 and extra.loc[index, 'race'] == 4:\n",
    "            year2018O += 1\n",
    "        elif extra.loc[index, 'year'] == 2018 and extra.loc[index, 'race'] == 5:\n",
    "            year2018W += 1\n",
    "\n",
    "    print('Year 2018 race A: ' + str(year2018A))\n",
    "    print('Year 2018 race B: ' + str(year2018B))\n",
    "    print('Year 2018 race H: ' + str(year2018H))\n",
    "    print('Year 2018 race N: ' + str(year2018N))\n",
    "    print('Year 2018 race O: ' + str(year2018O))\n",
    "    print('Year 2018 race W: ' + str(year2018W))\n",
    "\n",
    "year2018(extra)\n",
    "print()\n",
    "\n",
    "def year2019(extra):\n",
    "    year2019A = 0\n",
    "    year2019B = 0\n",
    "    year2019H = 0\n",
    "    year2019N = 0\n",
    "    year2019O = 0\n",
    "    year2019W = 0\n",
    "    \n",
    "    for index in extra.index:\n",
    "        if extra.loc[index, 'year'] == 2019 and extra.loc[index, 'race'] == 0:\n",
    "            year2019A += 1\n",
    "        elif extra.loc[index, 'year'] == 2019 and extra.loc[index, 'race'] == 1:\n",
    "            year2019B += 1\n",
    "        elif extra.loc[index, 'year'] == 2019 and extra.loc[index, 'race'] == 2:\n",
    "            year2019H += 1\n",
    "        elif extra.loc[index, 'year'] == 2019 and extra.loc[index, 'race'] == 3:\n",
    "            year2019N += 1\n",
    "        elif extra.loc[index, 'year'] == 2019 and extra.loc[index, 'race'] == 4:\n",
    "            year2019O += 1\n",
    "        elif extra.loc[index, 'year'] == 2019 and extra.loc[index, 'race'] == 5:\n",
    "            year2019W += 1\n",
    "\n",
    "    print('Year 2019 race A: ' + str(year2019A))\n",
    "    print('Year 2019 race B: ' + str(year2019B))\n",
    "    print('Year 2019 race H: ' + str(year2019H))\n",
    "    print('Year 2019 race N: ' + str(year2019N))\n",
    "    print('Year 2019 race O: ' + str(year2019O))\n",
    "    print('Year 2019 race W: ' + str(year2019W))\n",
    "\n",
    "year2019(extra)\n",
    "print()\n",
    "\n",
    "def year2020(extra):\n",
    "    year2020A = 0\n",
    "    year2020B = 0\n",
    "    year2020H = 0\n",
    "    year2020N = 0\n",
    "    year2020O = 0\n",
    "    year2020W = 0\n",
    "    \n",
    "    for index in extra.index:\n",
    "        if extra.loc[index, 'year'] == 2020 and extra.loc[index, 'race'] == 0:\n",
    "            year2020A += 1\n",
    "        elif extra.loc[index, 'year'] == 2020 and extra.loc[index, 'race'] == 1:\n",
    "            year2020B += 1\n",
    "        elif extra.loc[index, 'year'] == 2020 and extra.loc[index, 'race'] == 2:\n",
    "            year2020H += 1\n",
    "        elif extra.loc[index, 'year'] == 2020 and extra.loc[index, 'race'] == 3:\n",
    "            year2020N += 1\n",
    "        elif extra.loc[index, 'year'] == 2020 and extra.loc[index, 'race'] == 4:\n",
    "            year2020O += 1\n",
    "        elif extra.loc[index, 'year'] == 2020 and extra.loc[index, 'race'] == 5:\n",
    "            year2020W += 1\n",
    "\n",
    "    print('Year 2020 race A: ' + str(year2020A))\n",
    "    print('Year 2020 race B: ' + str(year2020B))\n",
    "    print('Year 2020 race H: ' + str(year2020H))\n",
    "    print('Year 2020 race N: ' + str(year2020N))\n",
    "    print('Year 2020 race O: ' + str(year2020O))\n",
    "    print('Year 2020 race W: ' + str(year2020W))\n",
    "\n",
    "year2020(extra)"
   ]
  },
  {
   "cell_type": "code",
   "execution_count": 5,
   "id": "e161b4f9",
   "metadata": {},
   "outputs": [],
   "source": [
    "#Creating a dataframe for the data calculated above\n",
    "stackedBar = pd.DataFrame([(2015, 0, 14),\n",
    "                   (2015, 1, 258),\n",
    "                   (2015,2, 172),\n",
    "                   (2015,3, 9),\n",
    "                   (2015, 4, 14),\n",
    "                   (2015, 5, 498),\n",
    "                   (2016, 0, 15),\n",
    "                   (2016, 1, 234),\n",
    "                   (2016, 2, 160), \n",
    "                   (2016, 3, 16),\n",
    "                   (2016, 4, 11),\n",
    "                   (2016, 5, 470),\n",
    "                   (2017, 0, 16),\n",
    "                   (2017, 1, 224),\n",
    "                   (2017, 2, 180),\n",
    "                   (2017, 3, 22),\n",
    "                   (2017, 4, 6),\n",
    "                   (2017, 5, 460),\n",
    "                   (2018, 0, 20),\n",
    "                   (2018, 1, 229),\n",
    "                   (2018, 2, 165),\n",
    "                   (2018, 3, 15),\n",
    "                   (2018, 4, 4),\n",
    "                   (2018, 5, 456),\n",
    "                   (2019, 0, 19),\n",
    "                   (2019, 1, 250),\n",
    "                   (2019, 2, 163),\n",
    "                   (2019, 3, 13),\n",
    "                   (2019, 4, 9),\n",
    "                   (2019, 5, 403),\n",
    "                   (2020, 0, 9),\n",
    "                   (2020, 1, 134),\n",
    "                   (2020, 2, 90),\n",
    "                   (2020,3,4),\n",
    "                   (2020, 4, 3),\n",
    "                   (2020,5,267)\n",
    "                          ],\n",
    "           columns=('year','race', 'death_count')\n",
    "                 )"
   ]
  },
  {
   "cell_type": "code",
   "execution_count": 6,
   "id": "7c644113",
   "metadata": {
    "scrolled": false
   },
   "outputs": [
    {
     "data": {
      "text/html": [
       "<div>\n",
       "<style scoped>\n",
       "    .dataframe tbody tr th:only-of-type {\n",
       "        vertical-align: middle;\n",
       "    }\n",
       "\n",
       "    .dataframe tbody tr th {\n",
       "        vertical-align: top;\n",
       "    }\n",
       "\n",
       "    .dataframe thead th {\n",
       "        text-align: right;\n",
       "    }\n",
       "</style>\n",
       "<table border=\"1\" class=\"dataframe\">\n",
       "  <thead>\n",
       "    <tr style=\"text-align: right;\">\n",
       "      <th></th>\n",
       "      <th>year</th>\n",
       "      <th>race</th>\n",
       "      <th>death_count</th>\n",
       "    </tr>\n",
       "  </thead>\n",
       "  <tbody>\n",
       "    <tr>\n",
       "      <th>0</th>\n",
       "      <td>2015</td>\n",
       "      <td>0</td>\n",
       "      <td>14</td>\n",
       "    </tr>\n",
       "    <tr>\n",
       "      <th>1</th>\n",
       "      <td>2015</td>\n",
       "      <td>1</td>\n",
       "      <td>258</td>\n",
       "    </tr>\n",
       "    <tr>\n",
       "      <th>2</th>\n",
       "      <td>2015</td>\n",
       "      <td>2</td>\n",
       "      <td>172</td>\n",
       "    </tr>\n",
       "    <tr>\n",
       "      <th>3</th>\n",
       "      <td>2015</td>\n",
       "      <td>3</td>\n",
       "      <td>9</td>\n",
       "    </tr>\n",
       "    <tr>\n",
       "      <th>4</th>\n",
       "      <td>2015</td>\n",
       "      <td>4</td>\n",
       "      <td>14</td>\n",
       "    </tr>\n",
       "    <tr>\n",
       "      <th>5</th>\n",
       "      <td>2015</td>\n",
       "      <td>5</td>\n",
       "      <td>498</td>\n",
       "    </tr>\n",
       "    <tr>\n",
       "      <th>6</th>\n",
       "      <td>2016</td>\n",
       "      <td>0</td>\n",
       "      <td>15</td>\n",
       "    </tr>\n",
       "    <tr>\n",
       "      <th>7</th>\n",
       "      <td>2016</td>\n",
       "      <td>1</td>\n",
       "      <td>234</td>\n",
       "    </tr>\n",
       "    <tr>\n",
       "      <th>8</th>\n",
       "      <td>2016</td>\n",
       "      <td>2</td>\n",
       "      <td>160</td>\n",
       "    </tr>\n",
       "    <tr>\n",
       "      <th>9</th>\n",
       "      <td>2016</td>\n",
       "      <td>3</td>\n",
       "      <td>16</td>\n",
       "    </tr>\n",
       "    <tr>\n",
       "      <th>10</th>\n",
       "      <td>2016</td>\n",
       "      <td>4</td>\n",
       "      <td>11</td>\n",
       "    </tr>\n",
       "    <tr>\n",
       "      <th>11</th>\n",
       "      <td>2016</td>\n",
       "      <td>5</td>\n",
       "      <td>470</td>\n",
       "    </tr>\n",
       "    <tr>\n",
       "      <th>12</th>\n",
       "      <td>2017</td>\n",
       "      <td>0</td>\n",
       "      <td>16</td>\n",
       "    </tr>\n",
       "    <tr>\n",
       "      <th>13</th>\n",
       "      <td>2017</td>\n",
       "      <td>1</td>\n",
       "      <td>224</td>\n",
       "    </tr>\n",
       "    <tr>\n",
       "      <th>14</th>\n",
       "      <td>2017</td>\n",
       "      <td>2</td>\n",
       "      <td>180</td>\n",
       "    </tr>\n",
       "    <tr>\n",
       "      <th>15</th>\n",
       "      <td>2017</td>\n",
       "      <td>3</td>\n",
       "      <td>22</td>\n",
       "    </tr>\n",
       "    <tr>\n",
       "      <th>16</th>\n",
       "      <td>2017</td>\n",
       "      <td>4</td>\n",
       "      <td>6</td>\n",
       "    </tr>\n",
       "    <tr>\n",
       "      <th>17</th>\n",
       "      <td>2017</td>\n",
       "      <td>5</td>\n",
       "      <td>460</td>\n",
       "    </tr>\n",
       "    <tr>\n",
       "      <th>18</th>\n",
       "      <td>2018</td>\n",
       "      <td>0</td>\n",
       "      <td>20</td>\n",
       "    </tr>\n",
       "    <tr>\n",
       "      <th>19</th>\n",
       "      <td>2018</td>\n",
       "      <td>1</td>\n",
       "      <td>229</td>\n",
       "    </tr>\n",
       "    <tr>\n",
       "      <th>20</th>\n",
       "      <td>2018</td>\n",
       "      <td>2</td>\n",
       "      <td>165</td>\n",
       "    </tr>\n",
       "    <tr>\n",
       "      <th>21</th>\n",
       "      <td>2018</td>\n",
       "      <td>3</td>\n",
       "      <td>15</td>\n",
       "    </tr>\n",
       "    <tr>\n",
       "      <th>22</th>\n",
       "      <td>2018</td>\n",
       "      <td>4</td>\n",
       "      <td>4</td>\n",
       "    </tr>\n",
       "    <tr>\n",
       "      <th>23</th>\n",
       "      <td>2018</td>\n",
       "      <td>5</td>\n",
       "      <td>456</td>\n",
       "    </tr>\n",
       "    <tr>\n",
       "      <th>24</th>\n",
       "      <td>2019</td>\n",
       "      <td>0</td>\n",
       "      <td>19</td>\n",
       "    </tr>\n",
       "    <tr>\n",
       "      <th>25</th>\n",
       "      <td>2019</td>\n",
       "      <td>1</td>\n",
       "      <td>250</td>\n",
       "    </tr>\n",
       "    <tr>\n",
       "      <th>26</th>\n",
       "      <td>2019</td>\n",
       "      <td>2</td>\n",
       "      <td>163</td>\n",
       "    </tr>\n",
       "    <tr>\n",
       "      <th>27</th>\n",
       "      <td>2019</td>\n",
       "      <td>3</td>\n",
       "      <td>13</td>\n",
       "    </tr>\n",
       "    <tr>\n",
       "      <th>28</th>\n",
       "      <td>2019</td>\n",
       "      <td>4</td>\n",
       "      <td>9</td>\n",
       "    </tr>\n",
       "    <tr>\n",
       "      <th>29</th>\n",
       "      <td>2019</td>\n",
       "      <td>5</td>\n",
       "      <td>403</td>\n",
       "    </tr>\n",
       "    <tr>\n",
       "      <th>30</th>\n",
       "      <td>2020</td>\n",
       "      <td>0</td>\n",
       "      <td>9</td>\n",
       "    </tr>\n",
       "    <tr>\n",
       "      <th>31</th>\n",
       "      <td>2020</td>\n",
       "      <td>1</td>\n",
       "      <td>134</td>\n",
       "    </tr>\n",
       "    <tr>\n",
       "      <th>32</th>\n",
       "      <td>2020</td>\n",
       "      <td>2</td>\n",
       "      <td>90</td>\n",
       "    </tr>\n",
       "    <tr>\n",
       "      <th>33</th>\n",
       "      <td>2020</td>\n",
       "      <td>3</td>\n",
       "      <td>4</td>\n",
       "    </tr>\n",
       "    <tr>\n",
       "      <th>34</th>\n",
       "      <td>2020</td>\n",
       "      <td>4</td>\n",
       "      <td>3</td>\n",
       "    </tr>\n",
       "    <tr>\n",
       "      <th>35</th>\n",
       "      <td>2020</td>\n",
       "      <td>5</td>\n",
       "      <td>267</td>\n",
       "    </tr>\n",
       "  </tbody>\n",
       "</table>\n",
       "</div>"
      ],
      "text/plain": [
       "    year  race  death_count\n",
       "0   2015     0           14\n",
       "1   2015     1          258\n",
       "2   2015     2          172\n",
       "3   2015     3            9\n",
       "4   2015     4           14\n",
       "5   2015     5          498\n",
       "6   2016     0           15\n",
       "7   2016     1          234\n",
       "8   2016     2          160\n",
       "9   2016     3           16\n",
       "10  2016     4           11\n",
       "11  2016     5          470\n",
       "12  2017     0           16\n",
       "13  2017     1          224\n",
       "14  2017     2          180\n",
       "15  2017     3           22\n",
       "16  2017     4            6\n",
       "17  2017     5          460\n",
       "18  2018     0           20\n",
       "19  2018     1          229\n",
       "20  2018     2          165\n",
       "21  2018     3           15\n",
       "22  2018     4            4\n",
       "23  2018     5          456\n",
       "24  2019     0           19\n",
       "25  2019     1          250\n",
       "26  2019     2          163\n",
       "27  2019     3           13\n",
       "28  2019     4            9\n",
       "29  2019     5          403\n",
       "30  2020     0            9\n",
       "31  2020     1          134\n",
       "32  2020     2           90\n",
       "33  2020     3            4\n",
       "34  2020     4            3\n",
       "35  2020     5          267"
      ]
     },
     "execution_count": 6,
     "metadata": {},
     "output_type": "execute_result"
    }
   ],
   "source": [
    "#View new dataframe with the values calculated.\n",
    "stackedBar"
   ]
  },
  {
   "cell_type": "code",
   "execution_count": 23,
   "id": "59af1c7b",
   "metadata": {
    "scrolled": true
   },
   "outputs": [
    {
     "name": "stdout",
     "output_type": "stream",
     "text": [
      "    year  race  death_count\n",
      "0   2015     0           14\n",
      "6   2016     0           15\n",
      "12  2017     0           16\n",
      "18  2018     0           20\n",
      "24  2019     0           19\n",
      "30  2020     0            9 \n",
      "\n",
      "    year  race  death_count\n",
      "1   2015     1          258\n",
      "7   2016     1          234\n",
      "13  2017     1          224\n",
      "19  2018     1          229\n",
      "25  2019     1          250\n",
      "31  2020     1          134 \n",
      "\n",
      "    year  race  death_count\n",
      "2   2015     2          172\n",
      "8   2016     2          160\n",
      "14  2017     2          180\n",
      "20  2018     2          165\n",
      "26  2019     2          163\n",
      "32  2020     2           90 \n",
      "\n",
      "    year  race  death_count\n",
      "3   2015     3            9\n",
      "9   2016     3           16\n",
      "15  2017     3           22\n",
      "21  2018     3           15\n",
      "27  2019     3           13\n",
      "33  2020     3            4 \n",
      "\n",
      "    year  race  death_count\n",
      "4   2015     4           14\n",
      "10  2016     4           11\n",
      "16  2017     4            6\n",
      "22  2018     4            4\n",
      "28  2019     4            9\n",
      "34  2020     4            3 \n",
      "\n",
      "    year  race  death_count\n",
      "5   2015     5          498\n",
      "11  2016     5          470\n",
      "17  2017     5          460\n",
      "23  2018     5          456\n",
      "29  2019     5          403\n",
      "35  2020     5          267 \n",
      "\n"
     ]
    }
   ],
   "source": [
    "#Tried to group based on race, is not used\n",
    "grouped_df = stackedBar.groupby([\"race\"])\n",
    "\n",
    "for key,item in grouped_df:\n",
    "    a_group = grouped_df.get_group(key)\n",
    "    \n",
    "    print(a_group, \"\\n\")"
   ]
  },
  {
   "cell_type": "code",
   "execution_count": 19,
   "id": "37624b84",
   "metadata": {
    "scrolled": true
   },
   "outputs": [
    {
     "data": {
      "image/png": "[encoded data removed]",
      "text/plain": [
       "<Figure size 720x504 with 1 Axes>"
      ]
     },
     "metadata": {
      "needs_background": "light"
     },
     "output_type": "display_data"
    }
   ],
   "source": [
    "#First bar chart created, should no be used. \n",
    "fig, ax = plt.subplots(figsize=(10,7))  \n",
    "\n",
    "races = stackedBar['race'].drop_duplicates()\n",
    "margin_bottom = np.zeros(len(stackedBar['year'].drop_duplicates()))\n",
    "colors = [['#DAECFF'],['#6AB1FF'],['#4CA1FF'], \n",
    "       ['#228BFF'],['#0064D3'],['#003C7E']]\n",
    "raceList = [\"A\", \"B\", \"H\", \"N\", \"O\", \"W\"]\n",
    "num = 5\n",
    "\n",
    "for num, race in enumerate(races):\n",
    "    values = list(stackedBar[stackedBar['race'] == race].loc[:, 'death_count'])\n",
    "    \n",
    "    stackedBar[stackedBar['race'] == race].plot.bar(x='year',y='death_count', ax=ax, stacked=True, \n",
    "                                    bottom = margin_bottom, color=colors[num], label=race)\n",
    "    margin_bottom += values\n",
    "\n",
    "plt.show()"
   ]
  },
  {
   "cell_type": "code",
   "execution_count": 26,
   "id": "22b6fa87",
   "metadata": {},
   "outputs": [
    {
     "data": {
      "application/vnd.plotly.v1+json": {
       "config": {
        "plotlyServerURL": "https://plot.ly"
       },
       "data": [
        {
         "name": "Asian",
         "type": "bar",
         "x": [
          "2015",
          "2016",
          "2017",
          "2018",
          "2019",
          "2020"
         ],
         "y": [
          14,
          15,
          16,
          20,
          19,
          9
         ]
        },
        {
         "name": "Black",
         "type": "bar",
         "x": [
          "2015",
          "2016",
          "2017",
          "2018",
          "2019",
          "2020"
         ],
         "y": [
          258,
          234,
          224,
          229,
          250,
          134
         ]
        },
        {
         "name": "Hispanic",
         "type": "bar",
         "x": [
          "2015",
          "2016",
          "2017",
          "2018",
          "2019",
          "2020"
         ],
         "y": [
          172,
          160,
          180,
          165,
          163,
          90
         ]
        },
        {
         "name": "Native American",
         "type": "bar",
         "x": [
          "2015",
          "2016",
          "2017",
          "2018",
          "2019",
          "2020"
         ],
         "y": [
          9,
          16,
          22,
          15,
          13,
          4
         ]
        },
        {
         "name": "Other",
         "type": "bar",
         "x": [
          "2015",
          "2016",
          "2017",
          "2018",
          "2019",
          "2020"
         ],
         "y": [
          14,
          11,
          6,
          4,
          9,
          3
         ]
        },
        {
         "name": "White",
         "type": "bar",
         "x": [
          "2015",
          "2016",
          "2017",
          "2018",
          "2019",
          "2020"
         ],
         "y": [
          498,
          470,
          460,
          456,
          403,
          267
         ]
        }
       ],
       "layout": {
        "barmode": "stack",
        "template": {
         "data": {
          "bar": [
           {
            "error_x": {
             "color": "#2a3f5f"
            },
            "error_y": {
             "color": "#2a3f5f"
            },
            "marker": {
             "line": {
              "color": "#E5ECF6",
              "width": 0.5
             },
             "pattern": {
              "fillmode": "overlay",
              "size": 10,
              "solidity": 0.2
             }
            },
            "type": "bar"
           }
          ],
          "barpolar": [
           {
            "marker": {
             "line": {
              "color": "#E5ECF6",
              "width": 0.5
             },
             "pattern": {
              "fillmode": "overlay",
              "size": 10,
              "solidity": 0.2
             }
            },
            "type": "barpolar"
           }
          ],
          "carpet": [
           {
            "aaxis": {
             "endlinecolor": "#2a3f5f",
             "gridcolor": "white",
             "linecolor": "white",
             "minorgridcolor": "white",
             "startlinecolor": "#2a3f5f"
            },
            "baxis": {
             "endlinecolor": "#2a3f5f",
             "gridcolor": "white",
             "linecolor": "white",
             "minorgridcolor": "white",
             "startlinecolor": "#2a3f5f"
            },
            "type": "carpet"
           }
          ],
          "choropleth": [
           {
            "colorbar": {
             "outlinewidth": 0,
             "ticks": ""
            },
            "type": "choropleth"
           }
          ],
          "contour": [
           {
            "colorbar": {
             "outlinewidth": 0,
             "ticks": ""
            },
            "colorscale": [
             [
              0,
              "#0d0887"
             ],
             [
              0.1111111111111111,
              "#46039f"
             ],
             [
              0.2222222222222222,
              "#7201a8"
             ],
             [
              0.3333333333333333,
              "#9c179e"
             ],
             [
              0.4444444444444444,
              "#bd3786"
             ],
             [
              0.5555555555555556,
              "#d8576b"
             ],
             [
              0.6666666666666666,
              "#ed7953"
             ],
             [
              0.7777777777777778,
              "#fb9f3a"
             ],
             [
              0.8888888888888888,
              "#fdca26"
             ],
             [
              1,
              "#f0f921"
             ]
            ],
            "type": "contour"
           }
          ],
          "contourcarpet": [
           {
            "colorbar": {
             "outlinewidth": 0,
             "ticks": ""
            },
            "type": "contourcarpet"
           }
          ],
          "heatmap": [
           {
            "colorbar": {
             "outlinewidth": 0,
             "ticks": ""
            },
            "colorscale": [
             [
              0,
              "#0d0887"
             ],
             [
              0.1111111111111111,
              "#46039f"
             ],
             [
              0.2222222222222222,
              "#7201a8"
             ],
             [
              0.3333333333333333,
              "#9c179e"
             ],
             [
              0.4444444444444444,
              "#bd3786"
             ],
             [
              0.5555555555555556,
              "#d8576b"
             ],
             [
              0.6666666666666666,
              "#ed7953"
             ],
             [
              0.7777777777777778,
              "#fb9f3a"
             ],
             [
              0.8888888888888888,
              "#fdca26"
             ],
             [
              1,
              "#f0f921"
             ]
            ],
            "type": "heatmap"
           }
          ],
          "heatmapgl": [
           {
            "colorbar": {
             "outlinewidth": 0,
             "ticks": ""
            },
            "colorscale": [
             [
              0,
              "#0d0887"
             ],
             [
              0.1111111111111111,
              "#46039f"
             ],
             [
              0.2222222222222222,
              "#7201a8"
             ],
             [
              0.3333333333333333,
              "#9c179e"
             ],
             [
              0.4444444444444444,
              "#bd3786"
             ],
             [
              0.5555555555555556,
              "#d8576b"
             ],
             [
              0.6666666666666666,
              "#ed7953"
             ],
             [
              0.7777777777777778,
              "#fb9f3a"
             ],
             [
              0.8888888888888888,
              "#fdca26"
             ],
             [
              1,
              "#f0f921"
             ]
            ],
            "type": "heatmapgl"
           }
          ],
          "histogram": [
           {
            "marker": {
             "pattern": {
              "fillmode": "overlay",
              "size": 10,
              "solidity": 0.2
             }
            },
            "type": "histogram"
           }
          ],
          "histogram2d": [
           {
            "colorbar": {
             "outlinewidth": 0,
             "ticks": ""
            },
            "colorscale": [
             [
              0,
              "#0d0887"
             ],
             [
              0.1111111111111111,
              "#46039f"
             ],
             [
              0.2222222222222222,
              "#7201a8"
             ],
             [
              0.3333333333333333,
              "#9c179e"
             ],
             [
              0.4444444444444444,
              "#bd3786"
             ],
             [
              0.5555555555555556,
              "#d8576b"
             ],
             [
              0.6666666666666666,
              "#ed7953"
             ],
             [
              0.7777777777777778,
              "#fb9f3a"
             ],
             [
              0.8888888888888888,
              "#fdca26"
             ],
             [
              1,
              "#f0f921"
             ]
            ],
            "type": "histogram2d"
           }
          ],
          "histogram2dcontour": [
           {
            "colorbar": {
             "outlinewidth": 0,
             "ticks": ""
            },
            "colorscale": [
             [
              0,
              "#0d0887"
             ],
             [
              0.1111111111111111,
              "#46039f"
             ],
             [
              0.2222222222222222,
              "#7201a8"
             ],
             [
              0.3333333333333333,
              "#9c179e"
             ],
             [
              0.4444444444444444,
              "#bd3786"
             ],
             [
              0.5555555555555556,
              "#d8576b"
             ],
             [
              0.6666666666666666,
              "#ed7953"
             ],
             [
              0.7777777777777778,
              "#fb9f3a"
             ],
             [
              0.8888888888888888,
              "#fdca26"
             ],
             [
              1,
              "#f0f921"
             ]
            ],
            "type": "histogram2dcontour"
           }
          ],
          "mesh3d": [
           {
            "colorbar": {
             "outlinewidth": 0,
             "ticks": ""
            },
            "type": "mesh3d"
           }
          ],
          "parcoords": [
           {
            "line": {
             "colorbar": {
              "outlinewidth": 0,
              "ticks": ""
             }
            },
            "type": "parcoords"
           }
          ],
          "pie": [
           {
            "automargin": true,
            "type": "pie"
           }
          ],
          "scatter": [
           {
            "marker": {
             "colorbar": {
              "outlinewidth": 0,
              "ticks": ""
             }
            },
            "type": "scatter"
           }
          ],
          "scatter3d": [
           {
            "line": {
             "colorbar": {
              "outlinewidth": 0,
              "ticks": ""
             }
            },
            "marker": {
             "colorbar": {
              "outlinewidth": 0,
              "ticks": ""
             }
            },
            "type": "scatter3d"
           }
          ],
          "scattercarpet": [
           {
            "marker": {
             "colorbar": {
              "outlinewidth": 0,
              "ticks": ""
             }
            },
            "type": "scattercarpet"
           }
          ],
          "scattergeo": [
           {
            "marker": {
             "colorbar": {
              "outlinewidth": 0,
              "ticks": ""
             }
            },
            "type": "scattergeo"
           }
          ],
          "scattergl": [
           {
            "marker": {
             "colorbar": {
              "outlinewidth": 0,
              "ticks": ""
             }
            },
            "type": "scattergl"
           }
          ],
          "scattermapbox": [
           {
            "marker": {
             "colorbar": {
              "outlinewidth": 0,
              "ticks": ""
             }
            },
            "type": "scattermapbox"
           }
          ],
          "scatterpolar": [
           {
            "marker": {
             "colorbar": {
              "outlinewidth": 0,
              "ticks": ""
             }
            },
            "type": "scatterpolar"
           }
          ],
          "scatterpolargl": [
           {
            "marker": {
             "colorbar": {
              "outlinewidth": 0,
              "ticks": ""
             }
            },
            "type": "scatterpolargl"
           }
          ],
          "scatterternary": [
           {
            "marker": {
             "colorbar": {
              "outlinewidth": 0,
              "ticks": ""
             }
            },
            "type": "scatterternary"
           }
          ],
          "surface": [
           {
            "colorbar": {
             "outlinewidth": 0,
             "ticks": ""
            },
            "colorscale": [
             [
              0,
              "#0d0887"
             ],
             [
              0.1111111111111111,
              "#46039f"
             ],
             [
              0.2222222222222222,
              "#7201a8"
             ],
             [
              0.3333333333333333,
              "#9c179e"
             ],
             [
              0.4444444444444444,
              "#bd3786"
             ],
             [
              0.5555555555555556,
              "#d8576b"
             ],
             [
              0.6666666666666666,
              "#ed7953"
             ],
             [
              0.7777777777777778,
              "#fb9f3a"
             ],
             [
              0.8888888888888888,
              "#fdca26"
             ],
             [
              1,
              "#f0f921"
             ]
            ],
            "type": "surface"
           }
          ],
          "table": [
           {
            "cells": {
             "fill": {
              "color": "#EBF0F8"
             },
             "line": {
              "color": "white"
             }
            },
            "header": {
             "fill": {
              "color": "#C8D4E3"
             },
             "line": {
              "color": "white"
             }
            },
            "type": "table"
           }
          ]
         },
         "layout": {
          "annotationdefaults": {
           "arrowcolor": "#2a3f5f",
           "arrowhead": 0,
           "arrowwidth": 1
          },
          "autotypenumbers": "strict",
          "coloraxis": {
           "colorbar": {
            "outlinewidth": 0,
            "ticks": ""
           }
          },
          "colorscale": {
           "diverging": [
            [
             0,
             "#8e0152"
            ],
            [
             0.1,
             "#c51b7d"
            ],
            [
             0.2,
             "#de77ae"
            ],
            [
             0.3,
             "#f1b6da"
            ],
            [
             0.4,
             "#fde0ef"
            ],
            [
             0.5,
             "#f7f7f7"
            ],
            [
             0.6,
             "#e6f5d0"
            ],
            [
             0.7,
             "#b8e186"
            ],
            [
             0.8,
             "#7fbc41"
            ],
            [
             0.9,
             "#4d9221"
            ],
            [
             1,
             "#276419"
            ]
           ],
           "sequential": [
            [
             0,
             "#0d0887"
            ],
            [
             0.1111111111111111,
             "#46039f"
            ],
            [
             0.2222222222222222,
             "#7201a8"
            ],
            [
             0.3333333333333333,
             "#9c179e"
            ],
            [
             0.4444444444444444,
             "#bd3786"
            ],
            [
             0.5555555555555556,
             "#d8576b"
            ],
            [
             0.6666666666666666,
             "#ed7953"
            ],
            [
             0.7777777777777778,
             "#fb9f3a"
            ],
            [
             0.8888888888888888,
             "#fdca26"
            ],
            [
             1,
             "#f0f921"
            ]
           ],
           "sequentialminus": [
            [
             0,
             "#0d0887"
            ],
            [
             0.1111111111111111,
             "#46039f"
            ],
            [
             0.2222222222222222,
             "#7201a8"
            ],
            [
             0.3333333333333333,
             "#9c179e"
            ],
            [
             0.4444444444444444,
             "#bd3786"
            ],
            [
             0.5555555555555556,
             "#d8576b"
            ],
            [
             0.6666666666666666,
             "#ed7953"
            ],
            [
             0.7777777777777778,
             "#fb9f3a"
            ],
            [
             0.8888888888888888,
             "#fdca26"
            ],
            [
             1,
             "#f0f921"
            ]
           ]
          },
          "colorway": [
           "#636efa",
           "#EF553B",
           "#00cc96",
           "#ab63fa",
           "#FFA15A",
           "#19d3f3",
           "#FF6692",
           "#B6E880",
           "#FF97FF",
           "#FECB52"
          ],
          "font": {
           "color": "#2a3f5f"
          },
          "geo": {
           "bgcolor": "white",
           "lakecolor": "white",
           "landcolor": "#E5ECF6",
           "showlakes": true,
           "showland": true,
           "subunitcolor": "white"
          },
          "hoverlabel": {
           "align": "left"
          },
          "hovermode": "closest",
          "mapbox": {
           "style": "light"
          },
          "paper_bgcolor": "white",
          "plot_bgcolor": "#E5ECF6",
          "polar": {
           "angularaxis": {
            "gridcolor": "white",
            "linecolor": "white",
            "ticks": ""
           },
           "bgcolor": "#E5ECF6",
           "radialaxis": {
            "gridcolor": "white",
            "linecolor": "white",
            "ticks": ""
           }
          },
          "scene": {
           "xaxis": {
            "backgroundcolor": "#E5ECF6",
            "gridcolor": "white",
            "gridwidth": 2,
            "linecolor": "white",
            "showbackground": true,
            "ticks": "",
            "zerolinecolor": "white"
           },
           "yaxis": {
            "backgroundcolor": "#E5ECF6",
            "gridcolor": "white",
            "gridwidth": 2,
            "linecolor": "white",
            "showbackground": true,
            "ticks": "",
            "zerolinecolor": "white"
           },
           "zaxis": {
            "backgroundcolor": "#E5ECF6",
            "gridcolor": "white",
            "gridwidth": 2,
            "linecolor": "white",
            "showbackground": true,
            "ticks": "",
            "zerolinecolor": "white"
           }
          },
          "shapedefaults": {
           "line": {
            "color": "#2a3f5f"
           }
          },
          "ternary": {
           "aaxis": {
            "gridcolor": "white",
            "linecolor": "white",
            "ticks": ""
           },
           "baxis": {
            "gridcolor": "white",
            "linecolor": "white",
            "ticks": ""
           },
           "bgcolor": "#E5ECF6",
           "caxis": {
            "gridcolor": "white",
            "linecolor": "white",
            "ticks": ""
           }
          },
          "title": {
           "x": 0.05
          },
          "xaxis": {
           "automargin": true,
           "gridcolor": "white",
           "linecolor": "white",
           "ticks": "",
           "title": {
            "standoff": 15
           },
           "zerolinecolor": "white",
           "zerolinewidth": 2
          },
          "yaxis": {
           "automargin": true,
           "gridcolor": "white",
           "linecolor": "white",
           "ticks": "",
           "title": {
            "standoff": 15
           },
           "zerolinecolor": "white",
           "zerolinewidth": 2
          }
         }
        }
       }
      },
      "text/html": [
       "<div>                            <div id=\"549f0ee9-349c-4410-86b4-e775392e817c\" class=\"plotly-graph-div\" style=\"height:525px; width:100%;\"></div>            <script type=\"text/javascript\">                require([\"plotly\"], function(Plotly) {                    window.PLOTLYENV=window.PLOTLYENV || {};                                    if (document.getElementById(\"549f0ee9-349c-4410-86b4-e775392e817c\")) {                    Plotly.newPlot(                        \"549f0ee9-349c-4410-86b4-e775392e817c\",                        [{\"name\":\"Asian\",\"x\":[\"2015\",\"2016\",\"2017\",\"2018\",\"2019\",\"2020\"],\"y\":[14,15,16,20,19,9],\"type\":\"bar\"},{\"name\":\"Black\",\"x\":[\"2015\",\"2016\",\"2017\",\"2018\",\"2019\",\"2020\"],\"y\":[258,234,224,229,250,134],\"type\":\"bar\"},{\"name\":\"Hispanic\",\"x\":[\"2015\",\"2016\",\"2017\",\"2018\",\"2019\",\"2020\"],\"y\":[172,160,180,165,163,90],\"type\":\"bar\"},{\"name\":\"Native American\",\"x\":[\"2015\",\"2016\",\"2017\",\"2018\",\"2019\",\"2020\"],\"y\":[9,16,22,15,13,4],\"type\":\"bar\"},{\"name\":\"Other\",\"x\":[\"2015\",\"2016\",\"2017\",\"2018\",\"2019\",\"2020\"],\"y\":[14,11,6,4,9,3],\"type\":\"bar\"},{\"name\":\"White\",\"x\":[\"2015\",\"2016\",\"2017\",\"2018\",\"2019\",\"2020\"],\"y\":[498,470,460,456,403,267],\"type\":\"bar\"}],                        {\"template\":{\"data\":{\"bar\":[{\"error_x\":{\"color\":\"#2a3f5f\"},\"error_y\":{\"color\":\"#2a3f5f\"},\"marker\":{\"line\":{\"color\":\"#E5ECF6\",\"width\":0.5},\"pattern\":{\"fillmode\":\"overlay\",\"size\":10,\"solidity\":0.2}},\"type\":\"bar\"}],\"barpolar\":[{\"marker\":{\"line\":{\"color\":\"#E5ECF6\",\"width\":0.5},\"pattern\":{\"fillmode\":\"overlay\",\"size\":10,\"solidity\":0.2}},\"type\":\"barpolar\"}],\"carpet\":[{\"aaxis\":{\"endlinecolor\":\"#2a3f5f\",\"gridcolor\":\"white\",\"linecolor\":\"white\",\"minorgridcolor\":\"white\",\"startlinecolor\":\"#2a3f5f\"},\"baxis\":{\"endlinecolor\":\"#2a3f5f\",\"gridcolor\":\"white\",\"linecolor\":\"white\",\"minorgridcolor\":\"white\",\"startlinecolor\":\"#2a3f5f\"},\"type\":\"carpet\"}],\"choropleth\":[{\"colorbar\":{\"outlinewidth\":0,\"ticks\":\"\"},\"type\":\"choropleth\"}],\"contour\":[{\"colorbar\":{\"outlinewidth\":0,\"ticks\":\"\"},\"colorscale\":[[0.0,\"#0d0887\"],[0.1111111111111111,\"#46039f\"],[0.2222222222222222,\"#7201a8\"],[0.3333333333333333,\"#9c179e\"],[0.4444444444444444,\"#bd3786\"],[0.5555555555555556,\"#d8576b\"],[0.6666666666666666,\"#ed7953\"],[0.7777777777777778,\"#fb9f3a\"],[0.8888888888888888,\"#fdca26\"],[1.0,\"#f0f921\"]],\"type\":\"contour\"}],\"contourcarpet\":[{\"colorbar\":{\"outlinewidth\":0,\"ticks\":\"\"},\"type\":\"contourcarpet\"}],\"heatmap\":[{\"colorbar\":{\"outlinewidth\":0,\"ticks\":\"\"},\"colorscale\":[[0.0,\"#0d0887\"],[0.1111111111111111,\"#46039f\"],[0.2222222222222222,\"#7201a8\"],[0.3333333333333333,\"#9c179e\"],[0.4444444444444444,\"#bd3786\"],[0.5555555555555556,\"#d8576b\"],[0.6666666666666666,\"#ed7953\"],[0.7777777777777778,\"#fb9f3a\"],[0.8888888888888888,\"#fdca26\"],[1.0,\"#f0f921\"]],\"type\":\"heatmap\"}],\"heatmapgl\":[{\"colorbar\":{\"outlinewidth\":0,\"ticks\":\"\"},\"colorscale\":[[0.0,\"#0d0887\"],[0.1111111111111111,\"#46039f\"],[0.2222222222222222,\"#7201a8\"],[0.3333333333333333,\"#9c179e\"],[0.4444444444444444,\"#bd3786\"],[0.5555555555555556,\"#d8576b\"],[0.6666666666666666,\"#ed7953\"],[0.7777777777777778,\"#fb9f3a\"],[0.8888888888888888,\"#fdca26\"],[1.0,\"#f0f921\"]],\"type\":\"heatmapgl\"}],\"histogram\":[{\"marker\":{\"pattern\":{\"fillmode\":\"overlay\",\"size\":10,\"solidity\":0.2}},\"type\":\"histogram\"}],\"histogram2d\":[{\"colorbar\":{\"outlinewidth\":0,\"ticks\":\"\"},\"colorscale\":[[0.0,\"#0d0887\"],[0.1111111111111111,\"#46039f\"],[0.2222222222222222,\"#7201a8\"],[0.3333333333333333,\"#9c179e\"],[0.4444444444444444,\"#bd3786\"],[0.5555555555555556,\"#d8576b\"],[0.6666666666666666,\"#ed7953\"],[0.7777777777777778,\"#fb9f3a\"],[0.8888888888888888,\"#fdca26\"],[1.0,\"#f0f921\"]],\"type\":\"histogram2d\"}],\"histogram2dcontour\":[{\"colorbar\":{\"outlinewidth\":0,\"ticks\":\"\"},\"colorscale\":[[0.0,\"#0d0887\"],[0.1111111111111111,\"#46039f\"],[0.2222222222222222,\"#7201a8\"],[0.3333333333333333,\"#9c179e\"],[0.4444444444444444,\"#bd3786\"],[0.5555555555555556,\"#d8576b\"],[0.6666666666666666,\"#ed7953\"],[0.7777777777777778,\"#fb9f3a\"],[0.8888888888888888,\"#fdca26\"],[1.0,\"#f0f921\"]],\"type\":\"histogram2dcontour\"}],\"mesh3d\":[{\"colorbar\":{\"outlinewidth\":0,\"ticks\":\"\"},\"type\":\"mesh3d\"}],\"parcoords\":[{\"line\":{\"colorbar\":{\"outlinewidth\":0,\"ticks\":\"\"}},\"type\":\"parcoords\"}],\"pie\":[{\"automargin\":true,\"type\":\"pie\"}],\"scatter\":[{\"marker\":{\"colorbar\":{\"outlinewidth\":0,\"ticks\":\"\"}},\"type\":\"scatter\"}],\"scatter3d\":[{\"line\":{\"colorbar\":{\"outlinewidth\":0,\"ticks\":\"\"}},\"marker\":{\"colorbar\":{\"outlinewidth\":0,\"ticks\":\"\"}},\"type\":\"scatter3d\"}],\"scattercarpet\":[{\"marker\":{\"colorbar\":{\"outlinewidth\":0,\"ticks\":\"\"}},\"type\":\"scattercarpet\"}],\"scattergeo\":[{\"marker\":{\"colorbar\":{\"outlinewidth\":0,\"ticks\":\"\"}},\"type\":\"scattergeo\"}],\"scattergl\":[{\"marker\":{\"colorbar\":{\"outlinewidth\":0,\"ticks\":\"\"}},\"type\":\"scattergl\"}],\"scattermapbox\":[{\"marker\":{\"colorbar\":{\"outlinewidth\":0,\"ticks\":\"\"}},\"type\":\"scattermapbox\"}],\"scatterpolar\":[{\"marker\":{\"colorbar\":{\"outlinewidth\":0,\"ticks\":\"\"}},\"type\":\"scatterpolar\"}],\"scatterpolargl\":[{\"marker\":{\"colorbar\":{\"outlinewidth\":0,\"ticks\":\"\"}},\"type\":\"scatterpolargl\"}],\"scatterternary\":[{\"marker\":{\"colorbar\":{\"outlinewidth\":0,\"ticks\":\"\"}},\"type\":\"scatterternary\"}],\"surface\":[{\"colorbar\":{\"outlinewidth\":0,\"ticks\":\"\"},\"colorscale\":[[0.0,\"#0d0887\"],[0.1111111111111111,\"#46039f\"],[0.2222222222222222,\"#7201a8\"],[0.3333333333333333,\"#9c179e\"],[0.4444444444444444,\"#bd3786\"],[0.5555555555555556,\"#d8576b\"],[0.6666666666666666,\"#ed7953\"],[0.7777777777777778,\"#fb9f3a\"],[0.8888888888888888,\"#fdca26\"],[1.0,\"#f0f921\"]],\"type\":\"surface\"}],\"table\":[{\"cells\":{\"fill\":{\"color\":\"#EBF0F8\"},\"line\":{\"color\":\"white\"}},\"header\":{\"fill\":{\"color\":\"#C8D4E3\"},\"line\":{\"color\":\"white\"}},\"type\":\"table\"}]},\"layout\":{\"annotationdefaults\":{\"arrowcolor\":\"#2a3f5f\",\"arrowhead\":0,\"arrowwidth\":1},\"autotypenumbers\":\"strict\",\"coloraxis\":{\"colorbar\":{\"outlinewidth\":0,\"ticks\":\"\"}},\"colorscale\":{\"diverging\":[[0,\"#8e0152\"],[0.1,\"#c51b7d\"],[0.2,\"#de77ae\"],[0.3,\"#f1b6da\"],[0.4,\"#fde0ef\"],[0.5,\"#f7f7f7\"],[0.6,\"#e6f5d0\"],[0.7,\"#b8e186\"],[0.8,\"#7fbc41\"],[0.9,\"#4d9221\"],[1,\"#276419\"]],\"sequential\":[[0.0,\"#0d0887\"],[0.1111111111111111,\"#46039f\"],[0.2222222222222222,\"#7201a8\"],[0.3333333333333333,\"#9c179e\"],[0.4444444444444444,\"#bd3786\"],[0.5555555555555556,\"#d8576b\"],[0.6666666666666666,\"#ed7953\"],[0.7777777777777778,\"#fb9f3a\"],[0.8888888888888888,\"#fdca26\"],[1.0,\"#f0f921\"]],\"sequentialminus\":[[0.0,\"#0d0887\"],[0.1111111111111111,\"#46039f\"],[0.2222222222222222,\"#7201a8\"],[0.3333333333333333,\"#9c179e\"],[0.4444444444444444,\"#bd3786\"],[0.5555555555555556,\"#d8576b\"],[0.6666666666666666,\"#ed7953\"],[0.7777777777777778,\"#fb9f3a\"],[0.8888888888888888,\"#fdca26\"],[1.0,\"#f0f921\"]]},\"colorway\":[\"#636efa\",\"#EF553B\",\"#00cc96\",\"#ab63fa\",\"#FFA15A\",\"#19d3f3\",\"#FF6692\",\"#B6E880\",\"#FF97FF\",\"#FECB52\"],\"font\":{\"color\":\"#2a3f5f\"},\"geo\":{\"bgcolor\":\"white\",\"lakecolor\":\"white\",\"landcolor\":\"#E5ECF6\",\"showlakes\":true,\"showland\":true,\"subunitcolor\":\"white\"},\"hoverlabel\":{\"align\":\"left\"},\"hovermode\":\"closest\",\"mapbox\":{\"style\":\"light\"},\"paper_bgcolor\":\"white\",\"plot_bgcolor\":\"#E5ECF6\",\"polar\":{\"angularaxis\":{\"gridcolor\":\"white\",\"linecolor\":\"white\",\"ticks\":\"\"},\"bgcolor\":\"#E5ECF6\",\"radialaxis\":{\"gridcolor\":\"white\",\"linecolor\":\"white\",\"ticks\":\"\"}},\"scene\":{\"xaxis\":{\"backgroundcolor\":\"#E5ECF6\",\"gridcolor\":\"white\",\"gridwidth\":2,\"linecolor\":\"white\",\"showbackground\":true,\"ticks\":\"\",\"zerolinecolor\":\"white\"},\"yaxis\":{\"backgroundcolor\":\"#E5ECF6\",\"gridcolor\":\"white\",\"gridwidth\":2,\"linecolor\":\"white\",\"showbackground\":true,\"ticks\":\"\",\"zerolinecolor\":\"white\"},\"zaxis\":{\"backgroundcolor\":\"#E5ECF6\",\"gridcolor\":\"white\",\"gridwidth\":2,\"linecolor\":\"white\",\"showbackground\":true,\"ticks\":\"\",\"zerolinecolor\":\"white\"}},\"shapedefaults\":{\"line\":{\"color\":\"#2a3f5f\"}},\"ternary\":{\"aaxis\":{\"gridcolor\":\"white\",\"linecolor\":\"white\",\"ticks\":\"\"},\"baxis\":{\"gridcolor\":\"white\",\"linecolor\":\"white\",\"ticks\":\"\"},\"bgcolor\":\"#E5ECF6\",\"caxis\":{\"gridcolor\":\"white\",\"linecolor\":\"white\",\"ticks\":\"\"}},\"title\":{\"x\":0.05},\"xaxis\":{\"automargin\":true,\"gridcolor\":\"white\",\"linecolor\":\"white\",\"ticks\":\"\",\"title\":{\"standoff\":15},\"zerolinecolor\":\"white\",\"zerolinewidth\":2},\"yaxis\":{\"automargin\":true,\"gridcolor\":\"white\",\"linecolor\":\"white\",\"ticks\":\"\",\"title\":{\"standoff\":15},\"zerolinecolor\":\"white\",\"zerolinewidth\":2}}},\"barmode\":\"stack\"},                        {\"responsive\": true}                    ).then(function(){\n",
       "                            \n",
       "var gd = document.getElementById('549f0ee9-349c-4410-86b4-e775392e817c');\n",
       "var x = new MutationObserver(function (mutations, observer) {{\n",
       "        var display = window.getComputedStyle(gd).display;\n",
       "        if (!display || display === 'none') {{\n",
       "            console.log([gd, 'removed!']);\n",
       "            Plotly.purge(gd);\n",
       "            observer.disconnect();\n",
       "        }}\n",
       "}});\n",
       "\n",
       "// Listen for the removal of the full notebook cells\n",
       "var notebookContainer = gd.closest('#notebook-container');\n",
       "if (notebookContainer) {{\n",
       "    x.observe(notebookContainer, {childList: true});\n",
       "}}\n",
       "\n",
       "// Listen for the clearing of the current output cell\n",
       "var outputEl = gd.closest('.output');\n",
       "if (outputEl) {{\n",
       "    x.observe(outputEl, {childList: true});\n",
       "}}\n",
       "\n",
       "                        })                };                });            </script>        </div>"
      ]
     },
     "metadata": {},
     "output_type": "display_data"
    }
   ],
   "source": [
    "#stacked bar chart to gain an overview of killings of each race a year. \n",
    "\n",
    "import plotly.graph_objects as go\n",
    "years=['2015', '2016', '2017','2018','2019','2020']\n",
    "\n",
    "fig = go.Figure(data=[\n",
    "    go.Bar(name='Asian', x=years, y=[14, 15, 16,20,19,9]),\n",
    "    go.Bar(name='Black', x=years, y=[258, 234, 224, 229,250,134]),\n",
    "    go.Bar(name='Hispanic', x=years, y=[172,160,180,165,163,90]),\n",
    "    go.Bar(name='Native American', x=years, y =[9,16,22,15,13,4]),\n",
    "    go.Bar(name='Other', x=years, y=[14,11,6,4,9,3]),\n",
    "    go.Bar(name='White', x=years, y=[498,470,460,456,403,267])\n",
    "])\n",
    "# Change the bar mode\n",
    "fig.update_layout(barmode='stack')\n",
    "fig.show()"
   ]
  },
  {
   "cell_type": "code",
   "execution_count": null,
   "id": "60feb232",
   "metadata": {},
   "outputs": [],
   "source": [
    "death_race"
   ]
  },
  {
   "cell_type": "code",
   "execution_count": 27,
   "id": "f0e98dd9",
   "metadata": {},
   "outputs": [],
   "source": [
    "newDF = pd.DataFrame([(0, 93),\n",
    "                   (1, 1329),\n",
    "                   (2, 930),\n",
    "                   (3, 79),\n",
    "                   (4, 47),\n",
    "                   (5, 2554)],\n",
    "           columns=('race', 'race_count')\n",
    "                 )"
   ]
  },
  {
   "cell_type": "code",
   "execution_count": 30,
   "id": "9c110b30",
   "metadata": {},
   "outputs": [
    {
     "data": {
      "text/plain": [
       "<AxesSubplot:title={'center':'Death count of specific races'}, xlabel='Deaths', ylabel='count'>"
      ]
     },
     "execution_count": 30,
     "metadata": {},
     "output_type": "execute_result"
    },
    {
     "data": {
      "image/png": "[encoded data removed]",
      "text/plain": [
       "<Figure size 720x504 with 1 Axes>"
      ]
     },
     "metadata": {
      "needs_background": "light"
     },
     "output_type": "display_data"
    }
   ],
   "source": [
    "#Showing number of each race killed\n",
    "raceDeath = newDF['race_count'].plot(kind='bar', figsize=(10,7),\n",
    "                                        color=\"coral\", fontsize=13);\n",
    "raceDeath.set_title(\"Death count of specific races\", fontsize=18)\n",
    "raceDeath.set_xlabel(\"Deaths\", fontsize=18);\n",
    "raceDeath.set_ylabel(\"count\")\n",
    "#a.set_xticks([0, 5, 10, 15, 20])\n",
    "\n",
    "\n",
    "\n",
    "# invert for largest on top \n",
    "raceDeath\n",
    "\n"
   ]
  },
  {
   "cell_type": "code",
   "execution_count": null,
   "id": "86054e1b",
   "metadata": {},
   "outputs": [],
   "source": []
  }
 ],
 "metadata": {
  "kernelspec": {
   "display_name": "Python 3",
   "language": "python",
   "name": "python3"
  },
  "language_info": {
   "codemirror_mode": {
    "name": "ipython",
    "version": 3
   },
   "file_extension": ".py",
   "mimetype": "text/x-python",
   "name": "python",
   "nbconvert_exporter": "python",
   "pygments_lexer": "ipython3",
   "version": "3.8.8"
  }
 },
 "nbformat": 4,
 "nbformat_minor": 5
}
